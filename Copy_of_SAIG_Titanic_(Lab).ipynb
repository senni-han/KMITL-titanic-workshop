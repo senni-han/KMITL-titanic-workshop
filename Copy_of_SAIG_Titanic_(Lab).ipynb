{
  "nbformat": 4,
  "nbformat_minor": 0,
  "metadata": {
    "colab": {
      "provenance": [],
      "include_colab_link": true
    },
    "kernelspec": {
      "name": "python3",
      "display_name": "Python 3"
    },
    "language_info": {
      "name": "python"
    }
  },
  "cells": [
    {
      "cell_type": "markdown",
      "metadata": {
        "id": "view-in-github",
        "colab_type": "text"
      },
      "source": [
        "<a href=\"https://colab.research.google.com/github/senni-han/KMITL-titanic-workshop/blob/main/Copy_of_SAIG_Titanic_(Lab).ipynb\" target=\"_parent\"><img src=\"https://colab.research.google.com/assets/colab-badge.svg\" alt=\"Open In Colab\"/></a>"
      ]
    },
    {
      "cell_type": "markdown",
      "source": [
        "# Software Technology with AI workshop\n",
        "\n",
        "> ## *Author* : SAIG Lab\n",
        "> ### *Affiliation* : Computer Engineering, King Mongkut's Institute of Technology Ladkrabang (KMITL)\n",
        "> #### *Updated Date* : 2024-08-01\n",
        "---\n",
        "\n",
        "> <a rel=\"license\" href=\"http://creativecommons.org/licenses/by-nc-sa/4.0/\"><img alt=\"Creative Commons License\" style=\"border-width:0\" src=\"https://i.creativecommons.org/l/by-nc-sa/4.0/88x31.png\" /></a><br />This work is licensed under a <a rel=\"license\" href=\"http://creativecommons.org/licenses/by-nc-sa/4.0/\">Creative Commons Attribution-NonCommercial-ShareAlike 4.0 International License</a>."
      ],
      "metadata": {
        "id": "1aVIVSiSTCJU"
      }
    },
    {
      "cell_type": "markdown",
      "source": [
        "\n",
        "\n",
        "---\n",
        "\n"
      ],
      "metadata": {
        "id": "scPUxescgrYo"
      }
    },
    {
      "cell_type": "markdown",
      "source": [
        "**คำสั่ง**\n",
        "\n",
        "\n",
        "1.   ไปที่ File แล้วเลือก \"Save a Copy in Drive\"\n",
        "2.   เติม code ลงในช่องให้ถูกต้อง (จาก https://github.com/SAIG-KMITL/titanic-workshop/ )\n",
        "\n"
      ],
      "metadata": {
        "id": "9OaWj5dxg6uf"
      }
    },
    {
      "cell_type": "markdown",
      "source": [
        "\n",
        "---\n",
        "\n"
      ],
      "metadata": {
        "id": "YVuaN82-g4se"
      }
    },
    {
      "cell_type": "markdown",
      "source": [
        "**นำเข้าข้อมูล**"
      ],
      "metadata": {
        "id": "XKeygw7raaUL"
      }
    },
    {
      "cell_type": "code",
      "source": [
        "import pandas as pd\n",
        "\n",
        "csv_path = \"https://rathachai.github.io/DA-LAB/datasets/titanic.csv\"\n",
        "df = pd.read_csv(csv_path)"
      ],
      "metadata": {
        "id": "z6mZx0IhTcxL"
      },
      "execution_count": null,
      "outputs": []
    },
    {
      "cell_type": "markdown",
      "source": [
        "**แสดงผลข้อมูล df**"
      ],
      "metadata": {
        "id": "3EJVOKyrbaV8"
      }
    },
    {
      "cell_type": "code",
      "source": [
        "df"
      ],
      "metadata": {
        "id": "gLbguk2KTwNn"
      },
      "execution_count": null,
      "outputs": []
    },
    {
      "cell_type": "markdown",
      "source": [
        "**เลือกเฉพาะคอลัมน์ Sex, Age, และ Survived**"
      ],
      "metadata": {
        "id": "PGKtdlQla6QS"
      }
    },
    {
      "cell_type": "code",
      "source": [
        "df = df[['Sex', 'Age', 'Survived']].copy()"
      ],
      "metadata": {
        "id": "GT0BpHrnUte-"
      },
      "execution_count": null,
      "outputs": []
    },
    {
      "cell_type": "markdown",
      "source": [
        "**ลบข้อมูลที่เป็นค่าว่างทิ้ง**"
      ],
      "metadata": {
        "id": "zDNJme_RbK9g"
      }
    },
    {
      "cell_type": "code",
      "source": [
        "# ใส่ code ที่นี่\n",
        "\n"
      ],
      "metadata": {
        "id": "UKuib_BFVFQd"
      },
      "execution_count": null,
      "outputs": []
    },
    {
      "cell_type": "markdown",
      "source": [
        "**แสดงผลข้อมูล df**"
      ],
      "metadata": {
        "id": "QIAvy8lKbzxH"
      }
    },
    {
      "cell_type": "code",
      "source": [
        "df"
      ],
      "metadata": {
        "id": "RuHOyBYIVdz_"
      },
      "execution_count": null,
      "outputs": []
    },
    {
      "cell_type": "markdown",
      "source": [
        "**สร้างตัวแปร X ให้มีคอลัมน์ Sex และ Age**"
      ],
      "metadata": {
        "id": "SjhpY_zab4R7"
      }
    },
    {
      "cell_type": "code",
      "source": [
        "# ใส่ code ที่นี่\n",
        "\n"
      ],
      "metadata": {
        "id": "xMaVZC7IVhlo"
      },
      "execution_count": null,
      "outputs": []
    },
    {
      "cell_type": "markdown",
      "source": [
        "**แปลง Sex จาก male, female ไปเป็น 0 กับ 1**"
      ],
      "metadata": {
        "id": "Cb8OajexcA2h"
      }
    },
    {
      "cell_type": "code",
      "source": [
        "# ใส่ code ที่นี่\n",
        "\n"
      ],
      "metadata": {
        "id": "j4vPitGgXUbq"
      },
      "execution_count": null,
      "outputs": []
    },
    {
      "cell_type": "markdown",
      "source": [
        "**สร้างตัวแปร y ให้มีเพียงค่า Suvived**"
      ],
      "metadata": {
        "id": "twe6Ukf0cLLJ"
      }
    },
    {
      "cell_type": "code",
      "source": [
        "# ใส่ code ที่นี่\n",
        "\n"
      ],
      "metadata": {
        "id": "PI71ThkIV8Wh"
      },
      "execution_count": null,
      "outputs": []
    },
    {
      "cell_type": "markdown",
      "source": [
        "**แสดงตัวแปร X**"
      ],
      "metadata": {
        "id": "QqjgEtiIcSZt"
      }
    },
    {
      "cell_type": "code",
      "source": [
        "X"
      ],
      "metadata": {
        "id": "h-tiiqxBW8nQ"
      },
      "execution_count": null,
      "outputs": []
    },
    {
      "cell_type": "markdown",
      "source": [
        "**แสดงตัวแปร y**"
      ],
      "metadata": {
        "id": "Pg5OtOGRcW6O"
      }
    },
    {
      "cell_type": "code",
      "source": [
        "print(y)"
      ],
      "metadata": {
        "id": "liYpzzDMcY6X"
      },
      "execution_count": null,
      "outputs": []
    },
    {
      "cell_type": "markdown",
      "source": [
        "**แบ่งขัอมูลสำหรับเรียนรู้และทดสอบ**"
      ],
      "metadata": {
        "id": "XQcPgrkBclwO"
      }
    },
    {
      "cell_type": "code",
      "source": [
        "# ใส่ code ที่นี่\n",
        "\n"
      ],
      "metadata": {
        "id": "260n7FUoWAxk"
      },
      "execution_count": null,
      "outputs": []
    },
    {
      "cell_type": "markdown",
      "source": [
        "**แสดงข้อมูลของ X_train, X_test, y_train, และ y_test**"
      ],
      "metadata": {
        "id": "rLJLxFBTcsc0"
      }
    },
    {
      "cell_type": "code",
      "source": [
        "X_train"
      ],
      "metadata": {
        "id": "evkjFjHJYKx_"
      },
      "execution_count": null,
      "outputs": []
    },
    {
      "cell_type": "code",
      "source": [
        "X_test"
      ],
      "metadata": {
        "id": "jtRNuvOvYLrW"
      },
      "execution_count": null,
      "outputs": []
    },
    {
      "cell_type": "code",
      "source": [
        "print(y_train)"
      ],
      "metadata": {
        "id": "M7pq_4qCYMi2"
      },
      "execution_count": null,
      "outputs": []
    },
    {
      "cell_type": "code",
      "source": [
        "print(y_test)"
      ],
      "metadata": {
        "id": "tQhEw6H1YNXi"
      },
      "execution_count": null,
      "outputs": []
    },
    {
      "cell_type": "markdown",
      "source": [
        "**สร้าง model จากเทคนิค Decision Tree**"
      ],
      "metadata": {
        "id": "qtwhvIUAc17x"
      }
    },
    {
      "cell_type": "code",
      "source": [
        "# ใส่ code ที่นี่\n",
        "\n"
      ],
      "metadata": {
        "id": "gT3Y5OPVWbcS"
      },
      "execution_count": null,
      "outputs": []
    },
    {
      "cell_type": "markdown",
      "source": [
        "**แสดงหน้าตาโมเดล**"
      ],
      "metadata": {
        "id": "QCJUuOWGc8oc"
      }
    },
    {
      "cell_type": "code",
      "source": [
        "from sklearn.tree import export_text\n",
        "\n",
        "tree_text = export_text(model)\n",
        "for i in range(len(X.columns)):\n",
        "  tree_text = tree_text.replace('feature_'+str(i), X.columns[i])\n",
        "\n",
        "print(tree_text)"
      ],
      "metadata": {
        "id": "iRiCkz5iY4kg"
      },
      "execution_count": null,
      "outputs": []
    },
    {
      "cell_type": "markdown",
      "source": [
        "**ทำนายค่าด้วยโมเดลจากข้อมูลสำหรับทดสอบ**"
      ],
      "metadata": {
        "id": "4BRa791udBmi"
      }
    },
    {
      "cell_type": "code",
      "source": [
        "# ใส่ code ที่นี่\n",
        "\n"
      ],
      "metadata": {
        "id": "FeQ2W6NmYTY1"
      },
      "execution_count": null,
      "outputs": []
    },
    {
      "cell_type": "markdown",
      "source": [
        "**แสดงผลของ Decision Tree จากข้อมูลทดสอบ**"
      ],
      "metadata": {
        "id": "xbS5fo0idHzM"
      }
    },
    {
      "cell_type": "code",
      "source": [
        "print(y_pred)"
      ],
      "metadata": {
        "id": "tp8VN7ZpYYlr"
      },
      "execution_count": null,
      "outputs": []
    },
    {
      "cell_type": "markdown",
      "source": [
        "**แสดงผล Accuracy ของโมเดลจากข้อมูลทดสอบ**"
      ],
      "metadata": {
        "id": "ygtQj7JLdQaJ"
      }
    },
    {
      "cell_type": "code",
      "source": [
        "# ใส่ code ที่นี่\n",
        "\n"
      ],
      "metadata": {
        "id": "d6zT0D1FYbgq"
      },
      "execution_count": null,
      "outputs": []
    },
    {
      "cell_type": "markdown",
      "source": [
        "**ทดลองใช้จริง**\n",
        "โดยใส่ Sex และ Age ของคนที่รู้จัก"
      ],
      "metadata": {
        "id": "KiXLo5vKdYyg"
      }
    },
    {
      "cell_type": "code",
      "source": [
        "my_sex = 'male'  # @param ['male', 'female']\n",
        "my_age = 32  # @param {type: \"slider\", min: 1, max: 99}\n",
        "\n",
        "my_info = pd.DataFrame({\n",
        "  'Sex': [my_sex],\n",
        "  'Age': [my_age]\n",
        "})\n",
        "\n",
        "my_info['Sex'] = my_info['Sex'].map({'male':1, 'female':0})\n",
        "\n",
        "print(model.predict(my_info))"
      ],
      "metadata": {
        "id": "uXoTtC4leNAd"
      },
      "execution_count": null,
      "outputs": []
    },
    {
      "cell_type": "markdown",
      "source": [
        "\n",
        "\n",
        "---\n",
        "\n"
      ],
      "metadata": {
        "id": "8DIr-C6CAozZ"
      }
    },
    {
      "cell_type": "code",
      "source": [],
      "metadata": {
        "id": "qcFUcuZkA2G3"
      },
      "execution_count": null,
      "outputs": []
    },
    {
      "cell_type": "markdown",
      "source": [
        "## โจทย์เพิ่มเติม\n",
        "ทดลองปรับใช้เทคนิคอื่นๆ เพื่อให้ได้ค่า Accuracy ที่สูงขึ้น เช่น\n",
        "\n",
        "```\n",
        "from sklearn.neural_network import MLPClassifier\n",
        "model = MLPClassifier(hidden_layer_sizes=(1, 1), activation='relu')\n",
        "model.fit(X_train,y_train)\n",
        "\n",
        "y_pred = model.predict(X_test)\n",
        "\n",
        "from sklearn.metrics import accuracy_score\n",
        "acc = accuracy_score(y_test, y_pred)\n",
        "print('Accuracy = ', acc)\n",
        "```\n",
        "\n"
      ],
      "metadata": {
        "id": "uNQOzeyXAkkP"
      }
    },
    {
      "cell_type": "code",
      "source": [
        "# ทดลองที่นี่\n",
        "\n"
      ],
      "metadata": {
        "id": "p7yTQkVtA2qp"
      },
      "execution_count": null,
      "outputs": []
    },
    {
      "cell_type": "markdown",
      "source": [
        "---\n",
        "https://www.ce.kmitl.ac.th/\n",
        "\n",
        "## つづく"
      ],
      "metadata": {
        "id": "IEXjtx5Mfabm"
      }
    }
  ]
}